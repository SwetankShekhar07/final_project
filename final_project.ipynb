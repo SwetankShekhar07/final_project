{
  "nbformat": 4,
  "nbformat_minor": 0,
  "metadata": {
    "colab": {
      "provenance": []
    },
    "kernelspec": {
      "name": "python3",
      "display_name": "Python 3"
    },
    "language_info": {
      "name": "python"
    }
  },
  "cells": [
    {
      "cell_type": "markdown",
      "source": [
        "# Data Science Tools and Ecosystem\n"
      ],
      "metadata": {
        "id": "L0ijxBHB2HaK"
      }
    },
    {
      "cell_type": "markdown",
      "source": [
        "## Introduction\n",
        "This notebook provides an overview of tools, libraries, and languages used in Data Science. It also includes examples of arithmetic operations and other essential concepts.\n"
      ],
      "metadata": {
        "id": "jgaI5l3o2Lxr"
      }
    },
    {
      "cell_type": "markdown",
      "source": [
        "### Data Science Languages\n",
        "1. Python\n",
        "2. R\n",
        "3. SQL\n",
        "4. Java\n",
        "5. Julia\n",
        "6. Scala\n",
        "7. MATLAB\n"
      ],
      "metadata": {
        "id": "Uu4LPMG12RtU"
      }
    },
    {
      "cell_type": "markdown",
      "source": [
        "### Data Science Libraries\n",
        "1. Pandas\n",
        "2. NumPy\n",
        "3. Matplotlib\n",
        "4. Seaborn\n",
        "5. Scikit-learn\n",
        "6. TensorFlow\n",
        "7. Keras\n",
        "8. PyTorch\n"
      ],
      "metadata": {
        "id": "xSfhbztQ2WJX"
      }
    },
    {
      "cell_type": "markdown",
      "source": [
        "### Data Science Tools\n",
        "| Tool               | Description                  |\n",
        "|--------------------|------------------------------|\n",
        "| Jupyter Notebooks  | Interactive environment for coding and visualization |\n",
        "| RStudio            | IDE for R programming       |\n",
        "| Apache Hadoop      | Framework for big data processing |\n",
        "| Tableau            | Data visualization tool     |\n",
        "| IBM Watson Studio  | Cloud-based data science platform |\n"
      ],
      "metadata": {
        "id": "k9UWKegp2ZkH"
      }
    },
    {
      "cell_type": "markdown",
      "source": [
        "### Arithmetic Expression Examples\n",
        "Below are examples of basic arithmetic operations in Python, such as addition and multiplication.\n"
      ],
      "metadata": {
        "id": "zU6WpwX12dl-"
      }
    },
    {
      "cell_type": "code",
      "execution_count": null,
      "metadata": {
        "id": "2hSZa_uc2A6S"
      },
      "outputs": [],
      "source": [
        "# Multiplication and Addition Example\n",
        "a = 5\n",
        "b = 10\n",
        "result = (a * b) + b\n",
        "result\n"
      ]
    },
    {
      "cell_type": "code",
      "source": [
        "# Convert minutes to hours\n",
        "minutes = 200\n",
        "hours = minutes / 60\n",
        "hours\n"
      ],
      "metadata": {
        "id": "JihM-Fy52hrZ"
      },
      "execution_count": null,
      "outputs": []
    },
    {
      "cell_type": "markdown",
      "source": [
        "### Objectives\n",
        "- Understand key languages in Data Science.\n",
        "- Explore libraries and tools used by Data Scientists.\n",
        "- Perform basic arithmetic operations using Python.\n",
        "- Convert units using Python programming.\n"
      ],
      "metadata": {
        "id": "rb4TZaD02k1O"
      }
    },
    {
      "cell_type": "markdown",
      "source": [
        "### Author\n",
        "Swetank Shekhar\n"
      ],
      "metadata": {
        "id": "fsVae6DO2niD"
      }
    }
  ]
}